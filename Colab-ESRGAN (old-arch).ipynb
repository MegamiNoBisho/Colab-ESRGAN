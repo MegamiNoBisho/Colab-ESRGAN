{
  "nbformat": 4,
  "nbformat_minor": 0,
  "metadata": {
    "colab": {
      "name": "ESRGAN_old-arch.ipynb",
      "provenance": [],
      "private_outputs": true,
      "collapsed_sections": []
    },
    "kernelspec": {
      "name": "python3",
      "display_name": "Python 3"
    },
    "accelerator": "GPU"
  },
  "cells": [
    {
      "cell_type": "markdown",
      "metadata": {
        "id": "T3wGB80dBZMe",
        "colab_type": "text"
      },
      "source": [
        "Original Colab file created by shahidul56 can be found [here](https://github.com/xinntao/ESRGAN/pull/22) and [here](https://colab.research.google.com/github/shahidul56/ESRGAN/blob/master/ESRGAN.ipynb).\n",
        "\n",
        "This is a modification by styler00dollar aka \"sudo rm -rf / --no-preserve-root#8353\" on discord. Compared to the original notebook, this notebook does:\n",
        "- use old-arch, which is far more compatible \n",
        "- fix torch install\n",
        "- include less gdrive code (only 1 authorization code instead of 2)\n",
        "- include comments\n",
        "- include a custom model example\n",
        "\n",
        "Things that could be improved:\n",
        "- automatic cropping, model application and merging like [IEU](https://github.com/ptrsuder/IEU.Winforms) to mitigate VRAM problems.\n",
        "\n",
        "Tutorials and custom models can be found on the [community wikipedia page](https://upscale.wiki/wiki/Main_Page).\n",
        "\n",
        "I personally recommend fatal pixels for drawn art. Model by twittman and can be downloaded [here](https://de-next.owncube.com/index.php/s/mDGmi7NgdyyQRXL)."
      ]
    },
    {
      "cell_type": "code",
      "metadata": {
        "id": "--dIWjjM-4-w",
        "colab_type": "code",
        "colab": {}
      },
      "source": [
        "# Check your GPU and your VRAM\n",
        "!nvidia-smi"
      ],
      "execution_count": 0,
      "outputs": []
    },
    {
      "cell_type": "code",
      "metadata": {
        "id": "7wPj3OqiHkd3",
        "colab_type": "code",
        "colab": {}
      },
      "source": [
        "# Connect Google Drive\n",
        "from google.colab import drive\n",
        "drive.mount('/content/drive')\n",
        "print('Google Drive connected.')"
      ],
      "execution_count": 0,
      "outputs": []
    },
    {
      "cell_type": "code",
      "metadata": {
        "id": "k1ACFjBbrwz0",
        "colab_type": "code",
        "colab": {}
      },
      "source": [
        "# ONLY RUN THIS ONCE IF YOU DONT HAVE ESRGAN IN YOUR GOOGLE DRIVE\n",
        "%cd \"/content/drive/My Drive\"\n",
        "!git clone https://github.com/styler00dollar/ESRGAN\n",
        "\n",
        "\"\"\"\n",
        "Or use the official old-arch instead of my repo that does have old-arch as master.\n",
        "!git clone --branch old-arch https://github.com/xinntao/ESRGAN\n",
        "\"\"\""
      ],
      "execution_count": 0,
      "outputs": []
    },
    {
      "cell_type": "code",
      "metadata": {
        "id": "gl-SgP70DfBS",
        "colab_type": "code",
        "colab": {}
      },
      "source": [
        "# ALWAYS RUN THIS\n",
        "%cd \"/content/drive/My Drive/ESRGAN\""
      ],
      "execution_count": 0,
      "outputs": []
    },
    {
      "cell_type": "code",
      "metadata": {
        "id": "Irj6v_VBrEAW",
        "colab_type": "code",
        "colab": {}
      },
      "source": [
        "# ONLY RUN THIS ONCE, if you want the recommended fatal pixels model. (Model made by twittman.)\n",
        "# Or just download it and put it in the ESRGAN/models folder in your drive, if there are problems.\n",
        "!wget --no-check-certificate \"https://de-next.owncube.com/index.php/s/mDGmi7NgdyyQRXL/download?path=%2F&files=4x_FatalPixels_340000_G.pth&downloadStartSecret=r4q3aw60ijm\" -O models/4x_FatalPixels_340000_G.pth"
      ],
      "execution_count": 0,
      "outputs": []
    },
    {
      "cell_type": "code",
      "metadata": {
        "id": "Zj2N-IHX67Ln",
        "colab_type": "code",
        "colab": {}
      },
      "source": [
        "# ONLY RUN THIS ONCE, if you want official models\n",
        "!wget --no-check-certificate 'https://docs.google.com/uc?export=download&id=1MJFgqXJrMkPdKtiuy7C6xfsU1QIbXEb-' -O models/RRDB_ESRGAN_x4.pth\n",
        "!wget --no-check-certificate 'https://docs.google.com/uc?export=download&id=1mSJ6Z40weL-dnPvi390xDd3uZBCFMeqr' -O models/RRDB_PSNR_x4.pth"
      ],
      "execution_count": 0,
      "outputs": []
    },
    {
      "cell_type": "code",
      "metadata": {
        "id": "o66-kA7E7EaP",
        "colab_type": "code",
        "colab": {}
      },
      "source": [
        "# Run this once you start a colab session\n",
        "from os import path\n",
        "from wheel.pep425tags import get_abbr_impl, get_impl_ver, get_abi_tag\n",
        "platform = '{}{}-{}'.format(get_abbr_impl(), get_impl_ver(), get_abi_tag())\n",
        "\n",
        "accelerator = 'cu80' if path.exists('/opt/bin/nvidia-smi') else 'cpu'\n",
        "\n",
        "!pip install torch torchvision\n",
        "\n",
        "import torch\n",
        "print(torch.__version__)\n",
        "print(torch.cuda.is_available())"
      ],
      "execution_count": 0,
      "outputs": []
    },
    {
      "cell_type": "code",
      "metadata": {
        "id": "Z14u4E7p9rRp",
        "colab_type": "code",
        "colab": {}
      },
      "source": [
        "!python test.py models/4x_FatalPixels_340000_G.pth"
      ],
      "execution_count": 0,
      "outputs": []
    },
    {
      "cell_type": "code",
      "metadata": {
        "id": "P331xaYjss1w",
        "colab_type": "code",
        "colab": {}
      },
      "source": [
        "!python test.py models/RRDB_ESRGAN_x4.pth"
      ],
      "execution_count": 0,
      "outputs": []
    },
    {
      "cell_type": "code",
      "metadata": {
        "id": "gdlVu92jbnUp",
        "colab_type": "code",
        "colab": {}
      },
      "source": [
        "!python test.py models/RRDB_PSNR_x4.pth"
      ],
      "execution_count": 0,
      "outputs": []
    }
  ]
}