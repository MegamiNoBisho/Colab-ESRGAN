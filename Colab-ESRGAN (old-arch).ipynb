{
  "nbformat": 4,
  "nbformat_minor": 0,
  "metadata": {
    "colab": {
      "name": "Colab-ESRGAN (old-arch).ipynb",
      "provenance": [],
      "private_outputs": true,
      "collapsed_sections": [],
      "toc_visible": true
    },
    "kernelspec": {
      "name": "python3",
      "display_name": "Python 3"
    },
    "accelerator": "GPU"
  },
  "cells": [
    {
      "cell_type": "markdown",
      "metadata": {
        "id": "T3wGB80dBZMe",
        "colab_type": "text"
      },
      "source": [
        "Original Colab file created by shahidul56 can be found [here](https://github.com/xinntao/ESRGAN/pull/22) and [here](https://colab.research.google.com/github/shahidul56/ESRGAN/blob/master/ESRGAN.ipynb).\n",
        "\n",
        "This is a modification by styler00dollar aka \"sudo rm -rf / --no-preserve-root#8353\" on discord. Compared to the original notebook, this notebook does:\n",
        "- resume when upscaling was interrupted by comparing the ```/LR``` folder with ```/results``` (You can turn overwriting on or off with a parameter)\n",
        "- have compatibility with different scales with one parameter\n",
        "- use old-arch, which is far more compatible \n",
        "- include less gdrive code (only 1 authorization code instead of 2)\n",
        "- include comments\n",
        "- include a custom model example\n",
        "\n",
        "Things that could be improved:\n",
        "- automatic cropping, model application and merging like [IEU](https://github.com/ptrsuder/IEU.Winforms) to mitigate VRAM problems.\n",
        "\n",
        "ESRGAN tutorials and custom models can be found in this [wiki page](https://upscale.wiki/wiki/Main_Page).\n",
        "\n",
        "I personally recommend fatal anime and fatal pixels for drawn art. Models by twittman and can be manually downloaded [here](https://de-next.owncube.com/index.php/s/x99pKzS7TNaErrC) and [here](https://de-next.owncube.com/index.php/s/mDGmi7NgdyyQRXL).\n",
        "\n",
        "I also included a [1x DeJPEG model for jpg compression](https://de-next.owncube.com/index.php/s/w82HLrLWmWi4SQ5). Also made by twittman.\n",
        "\n",
        "Here an [imgur example with fatal pixels](https://imgur.com/a/Eeirogg) and [here one with fatal anime](https://imgur.com/a/yhA21GC). Currently too lazy to do a proper comparison."
      ]
    },
    {
      "cell_type": "code",
      "metadata": {
        "id": "--dIWjjM-4-w",
        "colab_type": "code",
        "colab": {}
      },
      "source": [
        "# Check your GPU and your VRAM\n",
        "!nvidia-smi"
      ],
      "execution_count": null,
      "outputs": []
    },
    {
      "cell_type": "code",
      "metadata": {
        "id": "7wPj3OqiHkd3",
        "colab_type": "code",
        "colab": {}
      },
      "source": [
        "# Connect Google Drive\n",
        "from google.colab import drive\n",
        "drive.mount('/content/drive')\n",
        "print('Google Drive connected.')"
      ],
      "execution_count": null,
      "outputs": []
    },
    {
      "cell_type": "markdown",
      "metadata": {
        "id": "uDMtoHBfvHmi",
        "colab_type": "text"
      },
      "source": [
        "# Google Drive Code with individual transfer of images\n",
        "\n",
        "```WARNING for users that used the old version:``` This new notebook will create a folder named ```Colab-ESRGAN``` and won't use the ```ESRGAN``` folder in your Google Drive.\n",
        "\n",
        "The notebook is splitted in two parts. One that works with Google Drive and one that works locally on Colab. If you have many files, then it is recommended to run ESRGAN within Colab and to transfer images with one .tar/.tar.gz archive. The following cells are primarily for convenience."
      ]
    },
    {
      "cell_type": "code",
      "metadata": {
        "id": "k1ACFjBbrwz0",
        "colab_type": "code",
        "colab": {}
      },
      "source": [
        "# ONLY RUN THIS ONCE, IF YOU DONT HAVE ESRGAN (old-arch) IN YOUR GOOGLE DRIVE\n",
        "# Running this while you already have a folder named ESRGAN in your Google Drive will give you an error.\n",
        "%cd \"/content/drive/My Drive\"\n",
        "!git clone https://github.com/styler00dollar/Colab-ESRGAN.git\n",
        "\n",
        "\"\"\"\n",
        "Or use the official old-arch instead of my repo that does have old-arch as master.\n",
        "But if you do that, you need to change all paths and remove the scale parameter.\n",
        "!git clone --branch old-arch https://github.com/xinntao/ESRGAN\n",
        "\"\"\""
      ],
      "execution_count": null,
      "outputs": []
    },
    {
      "cell_type": "markdown",
      "metadata": {
        "id": "i_XJiZRbL5uI",
        "colab_type": "text"
      },
      "source": [
        "You can use these 2 boxes to download models directly into your Google Drive. You can either add code or add models manually, by adding models into ```Google Drive/ESRGAN/models```. If you plan on doing so, then you need to specify the correct model in the last command."
      ]
    },
    {
      "cell_type": "code",
      "metadata": {
        "id": "Zj2N-IHX67Ln",
        "colab_type": "code",
        "colab": {}
      },
      "source": [
        "# ONLY RUN THIS ONCE AFTER DOWNLOADING ESRGAN, if you want to add official models into your Google Drive\n",
        "%cd \"/content/drive/My Drive/Colab-ESRGAN\"\n",
        "!wget --no-check-certificate 'https://docs.google.com/uc?export=download&id=1MJFgqXJrMkPdKtiuy7C6xfsU1QIbXEb-' -O models/RRDB_ESRGAN_x4.pth\n",
        "!wget --no-check-certificate 'https://docs.google.com/uc?export=download&id=1mSJ6Z40weL-dnPvi390xDd3uZBCFMeqr' -O models/RRDB_PSNR_x4.pth"
      ],
      "execution_count": null,
      "outputs": []
    },
    {
      "cell_type": "code",
      "metadata": {
        "id": "ZjtcywTW0dKy",
        "colab_type": "code",
        "colab": {}
      },
      "source": [
        "# ONLY RUN THIS ONCE AFTER DOWNLOADING ESRGAN, if you want to add the recommended fatal anime model into your Google Drive. (Model made by twittman.)\n",
        "%cd \"/content/drive/My Drive/Colab-ESRGAN\"\n",
        "!wget --no-check-certificate \"https://de-next.owncube.com/index.php/s/x99pKzS7TNaErrC/download\" -O models/4x_fatal_Anime_500000_G.pth"
      ],
      "execution_count": null,
      "outputs": []
    },
    {
      "cell_type": "code",
      "metadata": {
        "id": "Irj6v_VBrEAW",
        "colab_type": "code",
        "colab": {}
      },
      "source": [
        "# ONLY RUN THIS ONCE AFTER DOWNLOADING ESRGAN, if you want to add the recommended fatal pixels model into your Google Drive. (Model made by twittman.)\n",
        "%cd \"/content/drive/My Drive/Colab-ESRGAN\"\n",
        "!wget --no-check-certificate \"https://de-next.owncube.com/index.php/s/mDGmi7NgdyyQRXL/download?path=%2F&files=4x_FatalPixels_340000_G.pth&downloadStartSecret=r4q3aw60ijm\" -O models/4x_FatalPixels_340000_G.pth"
      ],
      "execution_count": null,
      "outputs": []
    },
    {
      "cell_type": "code",
      "metadata": {
        "id": "W-M2MOEeEw9R",
        "colab_type": "code",
        "colab": {}
      },
      "source": [
        "# ONLY RUN THIS ONCE AFTER DOWNLOADING ESRGAN, if you want to add the recommended DeJPEG model into your Google Drive. (Model made by twittman.)\n",
        "%cd \"/content/drive/My Drive/Colab-ESRGAN\"\n",
        "!wget --no-check-certificate \"https://de-next.owncube.com/index.php/s/w82HLrLWmWi4SQ5/download\" -O models/1x_DeJpeg_Fatality_PlusULTRA_200000_G.pth"
      ],
      "execution_count": null,
      "outputs": []
    },
    {
      "cell_type": "markdown",
      "metadata": {
        "id": "APJmRf1PJ63q",
        "colab_type": "text"
      },
      "source": [
        "After all these boxes you are able to apply your desired model to your pictures. Put your pictures in ```Google Drive/ESRGAN/LR``` and the results will be in ```Google Drive/ESRGAN/results```. You can do that until you terminate the current session. If a session gets terminated, you need to connect your Google Drive again and run the box above.\n",
        "\n",
        "```Usage: !python test.py \"model path\" \"scale\" \"skip\"```\n",
        "\n",
        "scale:\n",
        "- Depends on the model. If the model is 1x, then input 1.\n",
        "\n",
        "\n",
        "skip: \n",
        "- 0 = skip file if it exists in /results\n",
        "- 1 = overwrite files"
      ]
    },
    {
      "cell_type": "code",
      "metadata": {
        "id": "Jrhm8tYmlGS6",
        "colab_type": "code",
        "colab": {}
      },
      "source": [
        "# Go into your Google Drive Colab-ESRGAN folder\n",
        "%cd \"/content/drive/My Drive/Colab-ESRGAN\""
      ],
      "execution_count": null,
      "outputs": []
    },
    {
      "cell_type": "code",
      "metadata": {
        "id": "P331xaYjss1w",
        "colab_type": "code",
        "colab": {}
      },
      "source": [
        "!python test.py models/RRDB_ESRGAN_x4.pth 4 0"
      ],
      "execution_count": null,
      "outputs": []
    },
    {
      "cell_type": "code",
      "metadata": {
        "id": "gdlVu92jbnUp",
        "colab_type": "code",
        "colab": {}
      },
      "source": [
        "!python test.py models/RRDB_PSNR_x4.pth 4 0"
      ],
      "execution_count": null,
      "outputs": []
    },
    {
      "cell_type": "code",
      "metadata": {
        "id": "Z14u4E7p9rRp",
        "colab_type": "code",
        "colab": {}
      },
      "source": [
        "!python test.py models/4x_FatalPixels_340000_G.pth 4 0"
      ],
      "execution_count": null,
      "outputs": []
    },
    {
      "cell_type": "code",
      "metadata": {
        "id": "9eYb-XSPBqQ5",
        "colab_type": "code",
        "colab": {}
      },
      "source": [
        "!python test.py models/4x_fatal_Anime_500000_G.pth 4 0"
      ],
      "execution_count": null,
      "outputs": []
    },
    {
      "cell_type": "code",
      "metadata": {
        "id": "LJ1bmwhIFEye",
        "colab_type": "code",
        "colab": {}
      },
      "source": [
        "!python test.py models/1x_DeJpeg_Fatality_PlusULTRA_200000_G.pth 1 0"
      ],
      "execution_count": null,
      "outputs": []
    },
    {
      "cell_type": "markdown",
      "metadata": {
        "id": "vWD8ix4owA9_",
        "colab_type": "text"
      },
      "source": [
        "# Running ESRGAN within Colab and transferring data with archives\n",
        "\n",
        "Put your ```data.tar/.tar.gz``` file in ```/Google Drive/ESRGAN/LR/```\n",
        "\n",
        "You can comment out wget commands for faster speed."
      ]
    },
    {
      "cell_type": "code",
      "metadata": {
        "id": "iE4Gm1RWwAgA",
        "colab_type": "code",
        "colab": {}
      },
      "source": [
        "!git clone https://github.com/styler00dollar/Colab-ESRGAN.git\n",
        "!wget --no-check-certificate 'https://docs.google.com/uc?export=download&id=1MJFgqXJrMkPdKtiuy7C6xfsU1QIbXEb-' -O /content/Colab-ESRGAN/models/RRDB_ESRGAN_x4.pth\n",
        "!wget --no-check-certificate 'https://docs.google.com/uc?export=download&id=1mSJ6Z40weL-dnPvi390xDd3uZBCFMeqr' -O /content/Colab-ESRGAN/models/RRDB_PSNR_x4.pth\n",
        "!wget --no-check-certificate \"https://de-next.owncube.com/index.php/s/mDGmi7NgdyyQRXL/download?path=%2F&files=4x_FatalPixels_340000_G.pth&downloadStartSecret=r4q3aw60ijm\" -O /content/Colab-ESRGAN/models/4x_FatalPixels_340000_G.pth\n",
        "!wget --no-check-certificate \"https://de-next.owncube.com/index.php/s/x99pKzS7TNaErrC/download\" -O /content/Colab-ESRGAN/models/4x_fatal_Anime_500000_G.pth\n",
        "!wget --no-check-certificate \"https://de-next.owncube.com/index.php/s/w82HLrLWmWi4SQ5/download\" -O /content/Colab-ESRGAN/models/1x_DeJpeg_Fatality_PlusULTRA_200000_G.pth"
      ],
      "execution_count": null,
      "outputs": []
    },
    {
      "cell_type": "code",
      "metadata": {
        "id": "S7l7rKH1yYTp",
        "colab_type": "code",
        "colab": {}
      },
      "source": [
        "# Downloading .tar.gz from Google Drive and extracting it.\n",
        "# If you want to use the 7z GUI, here is how you do it. With the 7z GUI you can create a .tar, then create a new\n",
        "# archive with only that file and select \"gzip\". You need to create an archive twice. The final file should be\n",
        "# data.tar.gz. You can change between .tar/.tar.gz in the paths. If .tar.gz is used, then compression\n",
        "# is applied.\n",
        "!cp \"/content/drive/My Drive/Colab-ESRGAN/LR/data.tar.gz\" /content/Colab-ESRGAN/LR/data.tar.gz\n",
        "!tar -C /content/Colab-ESRGAN/LR/ -zxvf /content/Colab-ESRGAN/LR/data.tar.gz\n",
        "!sudo rm -rf /content/Colab-ESRGAN/LR/data.tar.gz\n",
        "%cd /content/Colab-ESRGAN"
      ],
      "execution_count": null,
      "outputs": []
    },
    {
      "cell_type": "code",
      "metadata": {
        "id": "oIIkqYdM5JzQ",
        "colab_type": "code",
        "colab": {}
      },
      "source": [
        "# Copy and extract .tar\n",
        "!cp \"/content/drive/My Drive/Colab-ESRGAN/LR/data.tar\" /content/Colab-ESRGAN/LR/data.tar\n",
        "!tar -C /content/ESRGAN/LR -xvf /content/Colab-ESRGAN/LR/data.tar\n",
        "!sudo rm -rf /content/Colab-ESRGAN/LR/data.tar"
      ],
      "execution_count": null,
      "outputs": []
    },
    {
      "cell_type": "markdown",
      "metadata": {
        "id": "xpjEH3vr7_pm",
        "colab_type": "text"
      },
      "source": [
        "```Usage: !python test.py \"model path\" \"scale\" \"skip\"```\n",
        "\n",
        "scale:\n",
        "- Depends on the model. If the model is 1x, then input 1.\n",
        "\n",
        "\n",
        "skip: (Your ```/results``` folder in Colab will be empty, if you don't transfer files into ```/content/ESRGAN/results```. This value does not really matter with this pre-configured code and with one ```.tar``` file as an input. Regardless of that, one value is needed. Well, it is possible to transfer ```<image_name>_rlt.png``` files to ```/results``` and they will be skipped.)\n",
        "- 0 = skip file if it exists in /results\n",
        "- 1 = overwrite files "
      ]
    },
    {
      "cell_type": "code",
      "metadata": {
        "id": "GXSPYY9LzMcm",
        "colab_type": "code",
        "colab": {}
      },
      "source": [
        "!python test.py models/RRDB_ESRGAN_x4.pth 4 0"
      ],
      "execution_count": null,
      "outputs": []
    },
    {
      "cell_type": "code",
      "metadata": {
        "id": "Ur6NyqB6wwRP",
        "colab_type": "code",
        "colab": {}
      },
      "source": [
        "!python test.py models/RRDB_PSNR_x4.pth 4 0"
      ],
      "execution_count": null,
      "outputs": []
    },
    {
      "cell_type": "code",
      "metadata": {
        "id": "uff-dLxawxyK",
        "colab_type": "code",
        "colab": {}
      },
      "source": [
        "!python test.py models/4x_FatalPixels_340000_G.pth 4 0"
      ],
      "execution_count": null,
      "outputs": []
    },
    {
      "cell_type": "code",
      "metadata": {
        "id": "rXOqqMfk0LFv",
        "colab_type": "code",
        "colab": {}
      },
      "source": [
        "!python test.py models/4x_fatal_Anime_500000_G.pth 4 0"
      ],
      "execution_count": null,
      "outputs": []
    },
    {
      "cell_type": "code",
      "metadata": {
        "id": "0a1Iw8xVFLBj",
        "colab_type": "code",
        "colab": {}
      },
      "source": [
        "!python test.py models/1x_DeJpeg_Fatality_PlusULTRA_200000_G.pth 1 0"
      ],
      "execution_count": null,
      "outputs": []
    },
    {
      "cell_type": "code",
      "metadata": {
        "id": "Nf_BJg9EzNyW",
        "colab_type": "code",
        "colab": {}
      },
      "source": [
        "# Create archive and copy back archive to Google Drive. The final result will be in /Google Drive/ESRGAN/results.\n",
        "# You can change between .tar/.tar.gz in the last two lines. If .tar.gz is used, then compression is applied.\n",
        "!mkdir \"/content/drive/My Drive/Colab-ESRGAN/results\"\n",
        "!tar -cvf /content/output.tar.gz /content/Colab-ESRGAN/results\n",
        "!cp /content/output.tar.gz \"/content/drive/My Drive/Colab-ESRGAN/results/output.tar.gz\""
      ],
      "execution_count": null,
      "outputs": []
    }
  ]
}
